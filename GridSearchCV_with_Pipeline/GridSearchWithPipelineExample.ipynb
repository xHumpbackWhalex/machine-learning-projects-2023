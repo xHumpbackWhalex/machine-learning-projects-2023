{
 "cells": [
  {
   "cell_type": "code",
   "execution_count": 1,
   "id": "2b2b64fd",
   "metadata": {},
   "outputs": [],
   "source": [
    "import numpy as np\n",
    "import pandas as pd\n",
    "from sklearn import datasets\n",
    "from sklearn.model_selection import train_test_split\n",
    "from sklearn.svm import SVC\n",
    "from sklearn.model_selection import GridSearchCV\n",
    "from sklearn.pipeline import Pipeline\n",
    "from sklearn.preprocessing import StandardScaler\n",
    "from sklearn.preprocessing import PolynomialFeatures\n",
    "from sklearn.metrics import classification_report"
   ]
  },
  {
   "cell_type": "code",
   "execution_count": 2,
   "id": "e65535d8",
   "metadata": {
    "scrolled": true
   },
   "outputs": [
    {
     "name": "stdout",
     "output_type": "stream",
     "text": [
      "dict_keys(['data', 'target', 'frame', 'target_names', 'DESCR', 'feature_names', 'filename', 'data_module'])\n",
      "\n",
      "Features in the iris dataset are:  ['sepal length (cm)', 'sepal width (cm)', 'petal length (cm)', 'petal width (cm)']\n"
     ]
    }
   ],
   "source": [
    "iris = datasets.load_iris()\n",
    "print(iris.keys())\n",
    "print(\"\\nFeatures in the iris dataset are: \",iris.feature_names)"
   ]
  },
  {
   "cell_type": "code",
   "execution_count": 3,
   "id": "286df39d",
   "metadata": {},
   "outputs": [],
   "source": [
    "X = iris.data \n",
    "y = iris.target\n",
    "X_train, X_test, y_train, y_test = train_test_split(X, y, test_size=0.1, random_state = 42)"
   ]
  },
  {
   "cell_type": "code",
   "execution_count": 4,
   "id": "23275700",
   "metadata": {},
   "outputs": [],
   "source": [
    "pipeline = Pipeline([\n",
    "    (\"featureGeneration\", PolynomialFeatures()), \n",
    "    (\"scaler\" , StandardScaler()), \n",
    "    (\"classifier\",SVC())\n",
    "])\n",
    "\n",
    "grid_parameters = {'featureGeneration__degree': (1, 2, 3, 4), \n",
    "                   'classifier__kernel': ['linear', 'rbf'], \n",
    "                   'classifier__gamma': [1e-3, 1e-4], \n",
    "                   'classifier__C': [1, 10, 50, 100]\n",
    "                  }\n",
    "\n",
    "clf = GridSearchCV(pipeline, grid_parameters, cv=5, scoring='accuracy')"
   ]
  },
  {
   "cell_type": "code",
   "execution_count": 5,
   "id": "2eb67e81",
   "metadata": {},
   "outputs": [
    {
     "name": "stdout",
     "output_type": "stream",
     "text": [
      "Grid scores for all the models based on CV:\n",
      "\n",
      "0.96296 (+/-0.11476) for {'classifier__C': 1, 'classifier__gamma': 0.001, 'classifier__kernel': 'linear', 'featureGeneration__degree': 1}\n",
      "0.96296 (+/-0.11476) for {'classifier__C': 1, 'classifier__gamma': 0.001, 'classifier__kernel': 'linear', 'featureGeneration__degree': 2}\n",
      "0.96296 (+/-0.11476) for {'classifier__C': 1, 'classifier__gamma': 0.001, 'classifier__kernel': 'linear', 'featureGeneration__degree': 3}\n",
      "0.95556 (+/-0.10887) for {'classifier__C': 1, 'classifier__gamma': 0.001, 'classifier__kernel': 'linear', 'featureGeneration__degree': 4}\n",
      "0.67407 (+/-0.02963) for {'classifier__C': 1, 'classifier__gamma': 0.001, 'classifier__kernel': 'rbf', 'featureGeneration__degree': 1}\n",
      "0.88889 (+/-0.12395) for {'classifier__C': 1, 'classifier__gamma': 0.001, 'classifier__kernel': 'rbf', 'featureGeneration__degree': 2}\n",
      "0.91111 (+/-0.08889) for {'classifier__C': 1, 'classifier__gamma': 0.001, 'classifier__kernel': 'rbf', 'featureGeneration__degree': 3}\n",
      "0.92593 (+/-0.04685) for {'classifier__C': 1, 'classifier__gamma': 0.001, 'classifier__kernel': 'rbf', 'featureGeneration__degree': 4}\n",
      "0.96296 (+/-0.11476) for {'classifier__C': 1, 'classifier__gamma': 0.0001, 'classifier__kernel': 'linear', 'featureGeneration__degree': 1}\n",
      "0.96296 (+/-0.11476) for {'classifier__C': 1, 'classifier__gamma': 0.0001, 'classifier__kernel': 'linear', 'featureGeneration__degree': 2}\n",
      "0.96296 (+/-0.11476) for {'classifier__C': 1, 'classifier__gamma': 0.0001, 'classifier__kernel': 'linear', 'featureGeneration__degree': 3}\n",
      "0.95556 (+/-0.10887) for {'classifier__C': 1, 'classifier__gamma': 0.0001, 'classifier__kernel': 'linear', 'featureGeneration__degree': 4}\n",
      "0.34815 (+/-0.03629) for {'classifier__C': 1, 'classifier__gamma': 0.0001, 'classifier__kernel': 'rbf', 'featureGeneration__degree': 1}\n",
      "0.34815 (+/-0.03629) for {'classifier__C': 1, 'classifier__gamma': 0.0001, 'classifier__kernel': 'rbf', 'featureGeneration__degree': 2}\n",
      "0.67407 (+/-0.02963) for {'classifier__C': 1, 'classifier__gamma': 0.0001, 'classifier__kernel': 'rbf', 'featureGeneration__degree': 3}\n",
      "0.68889 (+/-0.15253) for {'classifier__C': 1, 'classifier__gamma': 0.0001, 'classifier__kernel': 'rbf', 'featureGeneration__degree': 4}\n",
      "0.96296 (+/-0.11476) for {'classifier__C': 10, 'classifier__gamma': 0.001, 'classifier__kernel': 'linear', 'featureGeneration__degree': 1}\n",
      "0.95556 (+/-0.10887) for {'classifier__C': 10, 'classifier__gamma': 0.001, 'classifier__kernel': 'linear', 'featureGeneration__degree': 2}\n",
      "0.96296 (+/-0.11476) for {'classifier__C': 10, 'classifier__gamma': 0.001, 'classifier__kernel': 'linear', 'featureGeneration__degree': 3}\n",
      "0.96296 (+/-0.11476) for {'classifier__C': 10, 'classifier__gamma': 0.001, 'classifier__kernel': 'linear', 'featureGeneration__degree': 4}\n",
      "0.88148 (+/-0.15108) for {'classifier__C': 10, 'classifier__gamma': 0.001, 'classifier__kernel': 'rbf', 'featureGeneration__degree': 1}\n",
      "0.95556 (+/-0.08638) for {'classifier__C': 10, 'classifier__gamma': 0.001, 'classifier__kernel': 'rbf', 'featureGeneration__degree': 2}\n",
      "0.96296 (+/-0.08114) for {'classifier__C': 10, 'classifier__gamma': 0.001, 'classifier__kernel': 'rbf', 'featureGeneration__degree': 3}\n",
      "0.95556 (+/-0.10887) for {'classifier__C': 10, 'classifier__gamma': 0.001, 'classifier__kernel': 'rbf', 'featureGeneration__degree': 4}\n",
      "0.96296 (+/-0.11476) for {'classifier__C': 10, 'classifier__gamma': 0.0001, 'classifier__kernel': 'linear', 'featureGeneration__degree': 1}\n",
      "0.95556 (+/-0.10887) for {'classifier__C': 10, 'classifier__gamma': 0.0001, 'classifier__kernel': 'linear', 'featureGeneration__degree': 2}\n",
      "0.96296 (+/-0.11476) for {'classifier__C': 10, 'classifier__gamma': 0.0001, 'classifier__kernel': 'linear', 'featureGeneration__degree': 3}\n",
      "0.96296 (+/-0.11476) for {'classifier__C': 10, 'classifier__gamma': 0.0001, 'classifier__kernel': 'linear', 'featureGeneration__degree': 4}\n",
      "0.67407 (+/-0.02963) for {'classifier__C': 10, 'classifier__gamma': 0.0001, 'classifier__kernel': 'rbf', 'featureGeneration__degree': 1}\n",
      "0.88889 (+/-0.12395) for {'classifier__C': 10, 'classifier__gamma': 0.0001, 'classifier__kernel': 'rbf', 'featureGeneration__degree': 2}\n",
      "0.91852 (+/-0.08638) for {'classifier__C': 10, 'classifier__gamma': 0.0001, 'classifier__kernel': 'rbf', 'featureGeneration__degree': 3}\n",
      "0.91852 (+/-0.05543) for {'classifier__C': 10, 'classifier__gamma': 0.0001, 'classifier__kernel': 'rbf', 'featureGeneration__degree': 4}\n",
      "0.94815 (+/-0.11086) for {'classifier__C': 50, 'classifier__gamma': 0.001, 'classifier__kernel': 'linear', 'featureGeneration__degree': 1}\n",
      "0.96296 (+/-0.11476) for {'classifier__C': 50, 'classifier__gamma': 0.001, 'classifier__kernel': 'linear', 'featureGeneration__degree': 2}\n",
      "0.96296 (+/-0.11476) for {'classifier__C': 50, 'classifier__gamma': 0.001, 'classifier__kernel': 'linear', 'featureGeneration__degree': 3}\n",
      "0.96296 (+/-0.11476) for {'classifier__C': 50, 'classifier__gamma': 0.001, 'classifier__kernel': 'linear', 'featureGeneration__degree': 4}\n",
      "0.97037 (+/-0.05543) for {'classifier__C': 50, 'classifier__gamma': 0.001, 'classifier__kernel': 'rbf', 'featureGeneration__degree': 1}\n",
      "0.96296 (+/-0.08114) for {'classifier__C': 50, 'classifier__gamma': 0.001, 'classifier__kernel': 'rbf', 'featureGeneration__degree': 2}\n",
      "0.96296 (+/-0.11476) for {'classifier__C': 50, 'classifier__gamma': 0.001, 'classifier__kernel': 'rbf', 'featureGeneration__degree': 3}\n",
      "0.96296 (+/-0.11476) for {'classifier__C': 50, 'classifier__gamma': 0.001, 'classifier__kernel': 'rbf', 'featureGeneration__degree': 4}\n",
      "0.94815 (+/-0.11086) for {'classifier__C': 50, 'classifier__gamma': 0.0001, 'classifier__kernel': 'linear', 'featureGeneration__degree': 1}\n",
      "0.96296 (+/-0.11476) for {'classifier__C': 50, 'classifier__gamma': 0.0001, 'classifier__kernel': 'linear', 'featureGeneration__degree': 2}\n",
      "0.96296 (+/-0.11476) for {'classifier__C': 50, 'classifier__gamma': 0.0001, 'classifier__kernel': 'linear', 'featureGeneration__degree': 3}\n",
      "0.96296 (+/-0.11476) for {'classifier__C': 50, 'classifier__gamma': 0.0001, 'classifier__kernel': 'linear', 'featureGeneration__degree': 4}\n",
      "0.85185 (+/-0.08114) for {'classifier__C': 50, 'classifier__gamma': 0.0001, 'classifier__kernel': 'rbf', 'featureGeneration__degree': 1}\n",
      "0.95556 (+/-0.08638) for {'classifier__C': 50, 'classifier__gamma': 0.0001, 'classifier__kernel': 'rbf', 'featureGeneration__degree': 2}\n",
      "0.95556 (+/-0.07258) for {'classifier__C': 50, 'classifier__gamma': 0.0001, 'classifier__kernel': 'rbf', 'featureGeneration__degree': 3}\n",
      "0.95556 (+/-0.10887) for {'classifier__C': 50, 'classifier__gamma': 0.0001, 'classifier__kernel': 'rbf', 'featureGeneration__degree': 4}\n",
      "0.96296 (+/-0.11476) for {'classifier__C': 100, 'classifier__gamma': 0.001, 'classifier__kernel': 'linear', 'featureGeneration__degree': 1}\n",
      "0.96296 (+/-0.11476) for {'classifier__C': 100, 'classifier__gamma': 0.001, 'classifier__kernel': 'linear', 'featureGeneration__degree': 2}\n",
      "0.96296 (+/-0.11476) for {'classifier__C': 100, 'classifier__gamma': 0.001, 'classifier__kernel': 'linear', 'featureGeneration__degree': 3}\n",
      "0.96296 (+/-0.11476) for {'classifier__C': 100, 'classifier__gamma': 0.001, 'classifier__kernel': 'linear', 'featureGeneration__degree': 4}\n",
      "0.96296 (+/-0.08114) for {'classifier__C': 100, 'classifier__gamma': 0.001, 'classifier__kernel': 'rbf', 'featureGeneration__degree': 1}\n",
      "0.96296 (+/-0.11476) for {'classifier__C': 100, 'classifier__gamma': 0.001, 'classifier__kernel': 'rbf', 'featureGeneration__degree': 2}\n",
      "0.97037 (+/-0.11852) for {'classifier__C': 100, 'classifier__gamma': 0.001, 'classifier__kernel': 'rbf', 'featureGeneration__degree': 3}\n",
      "0.96296 (+/-0.11476) for {'classifier__C': 100, 'classifier__gamma': 0.001, 'classifier__kernel': 'rbf', 'featureGeneration__degree': 4}\n",
      "0.96296 (+/-0.11476) for {'classifier__C': 100, 'classifier__gamma': 0.0001, 'classifier__kernel': 'linear', 'featureGeneration__degree': 1}\n",
      "0.96296 (+/-0.11476) for {'classifier__C': 100, 'classifier__gamma': 0.0001, 'classifier__kernel': 'linear', 'featureGeneration__degree': 2}\n",
      "0.96296 (+/-0.11476) for {'classifier__C': 100, 'classifier__gamma': 0.0001, 'classifier__kernel': 'linear', 'featureGeneration__degree': 3}\n",
      "0.96296 (+/-0.11476) for {'classifier__C': 100, 'classifier__gamma': 0.0001, 'classifier__kernel': 'linear', 'featureGeneration__degree': 4}\n",
      "0.88148 (+/-0.15108) for {'classifier__C': 100, 'classifier__gamma': 0.0001, 'classifier__kernel': 'rbf', 'featureGeneration__degree': 1}\n",
      "0.95556 (+/-0.08638) for {'classifier__C': 100, 'classifier__gamma': 0.0001, 'classifier__kernel': 'rbf', 'featureGeneration__degree': 2}\n",
      "0.96296 (+/-0.08114) for {'classifier__C': 100, 'classifier__gamma': 0.0001, 'classifier__kernel': 'rbf', 'featureGeneration__degree': 3}\n",
      "0.95556 (+/-0.10887) for {'classifier__C': 100, 'classifier__gamma': 0.0001, 'classifier__kernel': 'rbf', 'featureGeneration__degree': 4}\n"
     ]
    }
   ],
   "source": [
    "clf.fit(X_train, y_train)\n",
    "\n",
    "print(\"Grid scores for all the models based on CV:\\n\")\n",
    "\n",
    "means = clf.cv_results_['mean_test_score']\n",
    "\n",
    "stds = clf.cv_results_['std_test_score']\n",
    "\n",
    "for mean, std, params in zip(means, stds, clf.cv_results_['params']):\n",
    "    print(\"%0.5f (+/-%0.05f) for %r\" % (mean, std * 2, params))"
   ]
  },
  {
   "cell_type": "code",
   "execution_count": 6,
   "id": "1cc3c707",
   "metadata": {
    "scrolled": true
   },
   "outputs": [
    {
     "name": "stdout",
     "output_type": "stream",
     "text": [
      "\n",
      "Best parameters set found on development set: {'classifier__C': 50, 'classifier__gamma': 0.001, 'classifier__kernel': 'rbf', 'featureGeneration__degree': 1}\n",
      "Best model validation accuracy: 0.9703703703703704\n"
     ]
    }
   ],
   "source": [
    "print(\"\\nBest parameters set found on development set:\", clf.best_params_)\n",
    "print(\"Best model validation accuracy:\", clf.best_score_)"
   ]
  },
  {
   "cell_type": "code",
   "execution_count": 7,
   "id": "4635409b",
   "metadata": {
    "scrolled": true
   },
   "outputs": [
    {
     "name": "stdout",
     "output_type": "stream",
     "text": [
      "\n",
      "\n",
      "Tuned Model Stats:\n",
      "              precision    recall  f1-score   support\n",
      "\n",
      "     class 0       1.00      1.00      1.00         6\n",
      "     class 1       1.00      1.00      1.00         6\n",
      "     class 2       1.00      1.00      1.00         3\n",
      "\n",
      "    accuracy                           1.00        15\n",
      "   macro avg       1.00      1.00      1.00        15\n",
      "weighted avg       1.00      1.00      1.00        15\n",
      "\n"
     ]
    }
   ],
   "source": [
    "gs_best = clf.best_estimator_\n",
    "tuned_y_pred = gs_best.predict(X_test)\n",
    "print('\\n\\nTuned Model Stats:')\n",
    "print(classification_report(y_test, tuned_y_pred, target_names=['class 0', 'class 1', 'class 2']))"
   ]
  }
 ],
 "metadata": {
  "kernelspec": {
   "display_name": "Python 3 (ipykernel)",
   "language": "python",
   "name": "python3"
  },
  "language_info": {
   "codemirror_mode": {
    "name": "ipython",
    "version": 3
   },
   "file_extension": ".py",
   "mimetype": "text/x-python",
   "name": "python",
   "nbconvert_exporter": "python",
   "pygments_lexer": "ipython3",
   "version": "3.9.13"
  }
 },
 "nbformat": 4,
 "nbformat_minor": 5
}
